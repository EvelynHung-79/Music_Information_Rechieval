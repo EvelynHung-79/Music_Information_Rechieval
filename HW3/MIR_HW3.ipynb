{
  "cells": [
    {
      "cell_type": "markdown",
      "metadata": {
        "id": "ZsEeZKsHofah"
      },
      "source": [
        "# Package Installation & Preparations"
      ]
    },
    {
      "cell_type": "code",
      "execution_count": 1,
      "metadata": {
        "colab": {
          "base_uri": "https://localhost:8080/"
        },
        "id": "FSlr3HlLocRY",
        "outputId": "dc9f2a78-2450-4636-e2f9-005200e685d3"
      },
      "outputs": [
        {
          "output_type": "stream",
          "name": "stdout",
          "text": [
            "Drive already mounted at /content/drive/; to attempt to forcibly remount, call drive.mount(\"/content/drive/\", force_remount=True).\n"
          ]
        }
      ],
      "source": [
        "from google.colab import drive\n",
        "drive.mount('/content/drive/')\n",
        "import os\n",
        "os.chdir('/content/drive/MyDrive/Data_Colab/MIR')"
      ]
    },
    {
      "cell_type": "code",
      "execution_count": 2,
      "metadata": {
        "id": "yN1cmEN7ofqI",
        "colab": {
          "base_uri": "https://localhost:8080/"
        },
        "outputId": "9e35a37c-0251-4b47-e89b-2202ac4ec9c2"
      },
      "outputs": [
        {
          "output_type": "stream",
          "name": "stdout",
          "text": [
            "Looking in indexes: https://pypi.org/simple, https://us-python.pkg.dev/colab-wheels/public/simple/\n",
            "Requirement already satisfied: mir_eval in /usr/local/lib/python3.10/dist-packages (0.7)\n",
            "Requirement already satisfied: numpy>=1.7.0 in /usr/local/lib/python3.10/dist-packages (from mir_eval) (1.22.4)\n",
            "Requirement already satisfied: scipy>=1.0.0 in /usr/local/lib/python3.10/dist-packages (from mir_eval) (1.10.1)\n",
            "Requirement already satisfied: future in /usr/local/lib/python3.10/dist-packages (from mir_eval) (0.18.3)\n",
            "Requirement already satisfied: six in /usr/local/lib/python3.10/dist-packages (from mir_eval) (1.16.0)\n"
          ]
        }
      ],
      "source": [
        "!pip install mir_eval"
      ]
    },
    {
      "cell_type": "code",
      "execution_count": 3,
      "metadata": {
        "id": "WjGcRy4sojLI"
      },
      "outputs": [],
      "source": [
        "import librosa\n",
        "import numpy as np\n",
        "import tensorflow as tf\n",
        "import matplotlib.pyplot as plt\n",
        "import itertools\n",
        "import soundfile as sf\n",
        "import math\n",
        "from math import sin, cos, radians\n",
        "from itertools import repeat\n",
        "import pandas as pd\n",
        "import pickle\n",
        "import mir_eval\n",
        "import scipy.linalg\n",
        "from typing import List\n",
        "from scipy.stats import zscore\n",
        "from scipy.signal import argrelmax\n",
        "import scipy.signal as signal\n",
        "import numpy as np\n",
        "from dataclasses import dataclass\n",
        "from prettytable import PrettyTable\n",
        "from scipy.fftpack import ifft\n",
        "from librosa.util import normalize\n",
        "# import librosa.display"
      ]
    },
    {
      "cell_type": "code",
      "execution_count": 4,
      "metadata": {
        "id": "kAU6quhBome2"
      },
      "outputs": [],
      "source": [
        "import warnings\n",
        "warnings.filterwarnings(\"ignore\")"
      ]
    },
    {
      "cell_type": "code",
      "execution_count": 5,
      "metadata": {
        "id": "jPEqktUAvOmG"
      },
      "outputs": [],
      "source": [
        "# measures the changes in spectral content over time\n",
        "def spectral_flux(data, sr, hop_size, window_size, g, mean_size, lag=1):\n",
        "    x = librosa.stft(data, n_fft=window_size, hop_length=hop_size)\n",
        "    \n",
        "    #time value t\n",
        "    t = np.arange(x.shape[1]) * hop_size / sr\n",
        "    # Compute the magnitude spectrum and the spectral flux\n",
        "    y = np.log(1 + g * np.abs(x))\n",
        "    spflx = np.maximum(0., y[:, lag:] - y[:, :-lag]).mean(axis=0)\n",
        "    # Compute the time values for the enhanced spectral flux\n",
        "    t2 = (t[lag:] + t[:-lag]) / 2\n",
        "\n",
        "    # Post-processing: Apply mean filter and enhance the spectral flux\n",
        "    mean_filter = np.ones(mean_size) / mean_size\n",
        "    u = signal.fftconvolve(spflx, mean_filter, 'same')\n",
        "    spfx_enhance = np.maximum(0., spflx - u)\n",
        "    spfx_enhance = spfx_enhance / spfx_enhance.max()\n",
        "    return t2, spfx_enhance"
      ]
    },
    {
      "cell_type": "code",
      "execution_count": 6,
      "metadata": {
        "id": "XDO7_IX7wMp7"
      },
      "outputs": [],
      "source": [
        "def tempo_estimation(freq_scale, tempogram):\n",
        "    tempo_vector = np.sum(tempogram, axis=1)\n",
        "    peak_idx = argrelmax(tempo_vector)\n",
        "    \n",
        "    # Sort the peaks based on their magnitude (tempo_vector) in descending order\n",
        "    peaks = sorted(zip(tempo_vector[peak_idx], freq_scale[peak_idx]), key=lambda x: x[0], reverse=True)\n",
        "    \n",
        "    # Select the two highest peaks and arrange the peaks in ascending order\n",
        "    pack = peaks[:2]\n",
        "    if pack[0][1] > pack[1][1]:\n",
        "        pack = pack[::-1]\n",
        "    \n",
        "    # Compute the relative saliency\n",
        "    s1 = pack[0][0] / (pack[0][0] + pack[1][0])\n",
        "    return pack[0][1], pack[1][1], s1\n"
      ]
    },
    {
      "cell_type": "markdown",
      "metadata": {
        "id": "SUXi7pYbyHCb"
      },
      "source": [
        "By applying the weighted sum, the function amplifies the contributions of the harmonic components in the tempogram, emphasizing the harmonic information and potentially improving the accuracy of tempo estimation algorithms that rely on harmonic features."
      ]
    },
    {
      "cell_type": "code",
      "execution_count": 7,
      "metadata": {
        "id": "QNHRXkeAaT-l"
      },
      "outputs": [],
      "source": [
        "# weighted sum of the tempogram columns to enhance the harmonic structure.\n",
        "def harmonic_sum_tempogram(freq_scale, tempogram, harms, alpha):\n",
        "    # Get parts of tempogram\n",
        "    tpg = tempogram[:len(freq_scale) // harms, :]\n",
        "    weights = alpha ** (-np.arange(1, harms))\n",
        "    \n",
        "    for i in range(1, tpg.shape[0]):\n",
        "        stop = i * (harms + 1)\n",
        "        weights_slice = weights[:, np.newaxis]\n",
        "        tempogram_slice = tempogram[2 * i:stop:i]\n",
        "        tpg[i] += np.sum(tempogram_slice * weights_slice, axis=0)\n",
        "    \n",
        "    return freq_scale[:tpg.shape[0]], tpg"
      ]
    },
    {
      "cell_type": "code",
      "execution_count": 8,
      "metadata": {
        "id": "yKAx_PFUts2q"
      },
      "outputs": [],
      "source": [
        "# short term acf (autocorrelation function)\n",
        "def st_acf(data, sr, window_size, hop_size):\n",
        "    if hop_size:\n",
        "        noverlap = window_size - hop_size\n",
        "    else:\n",
        "        noverlap = None\n",
        "    _, t, x = signal.stft(data, sr, nperseg=window_size, noverlap=noverlap, return_onesided=False)\n",
        "    acf = ifft(np.abs(x) ** 2, axis=0).real\n",
        "    acf = acf[:acf.shape[0] // 2 + 1]\n",
        "    lag = np.arange(acf.shape[0]) / sr\n",
        "    return lag, t, acf"
      ]
    },
    {
      "cell_type": "code",
      "execution_count": 9,
      "metadata": {
        "id": "sq_u5Xm4v0XA"
      },
      "outputs": [],
      "source": [
        "def p_score(g, t1, t2, s1): #g=reference\n",
        "    T1 = 0\n",
        "    T2 = 0\n",
        "    if abs(g - t1) / g <= 0.08:\n",
        "        T1 = 1\n",
        "    if abs(g - t2) / g <= 0.08:\n",
        "        T2 = 1\n",
        "    return (s1 * T1) + ((1-s1) * T2)\n",
        "\n",
        "def ALOTC_SCORE(g, t1, t2):\n",
        "    T1, T2 = 0, 0\n",
        "    if abs(g - t1) / g <= 0.08:\n",
        "        T1 = 1\n",
        "    if abs(g - t2) / g <= 0.08:\n",
        "        T2 = 1\n",
        "    if T1 or T2: return 1\n",
        "    else: return 0"
      ]
    },
    {
      "cell_type": "code",
      "execution_count": 10,
      "metadata": {
        "id": "U4PXw57Tpf_B"
      },
      "outputs": [],
      "source": [
        "path = './Ballroom/BallroomData/'\n",
        "genres = ['ChaCha', 'Jive', 'Quickstep', 'Rumba', 'Samba', 'Tango', 'Viennese waltz', 'Waltz']\n",
        "window_size = 2048\n",
        "lw_sr = 100\n",
        "g = 1\n",
        "mean_size = 25"
      ]
    },
    {
      "cell_type": "markdown",
      "metadata": {
        "id": "wCUC5FGno5T1"
      },
      "source": [
        "# Question 1 & 2"
      ]
    },
    {
      "cell_type": "markdown",
      "metadata": {
        "id": "zs-lCO4SYo2Y"
      },
      "source": [
        "Fourier Tempogram"
      ]
    },
    {
      "cell_type": "code",
      "execution_count": 13,
      "metadata": {
        "id": "5WiMBm73v_74"
      },
      "outputs": [],
      "source": [
        "def tempogram_fourier(nv_curve, sr, window_size=2, hop_size=128):\n",
        "    stft = librosa.stft(nv_curve, n_fft=window_size, hop_length=hop_size)\n",
        "    tempogram = normalize(np.abs(stft))\n",
        "    freq_scale = np.arange(window_size // 2 + 1) * sr / window_size * 60\n",
        "    return freq_scale, tempogram"
      ]
    },
    {
      "cell_type": "code",
      "execution_count": 14,
      "metadata": {
        "colab": {
          "base_uri": "https://localhost:8080/"
        },
        "id": "KXYDYqB9qqAf",
        "outputId": "5fba7787-21da-4ed9-bb44-7298afe3451e"
      },
      "outputs": [
        {
          "output_type": "stream",
          "name": "stdout",
          "text": [
            "Running with window_length 800\n",
            "+----------------+---------+--------+\n",
            "|     Genre      | P-score | ALOTC  |\n",
            "+----------------+---------+--------+\n",
            "|     ChaCha     |  0.0000 | 0.0000 |\n",
            "|      Jive      |  0.2982 | 0.6000 |\n",
            "|   Quickstep    |  0.5202 | 0.9268 |\n",
            "|     Rumba      |  0.0000 | 0.0000 |\n",
            "|     Samba      |  0.0037 | 0.0116 |\n",
            "|     Tango      |  0.0947 | 0.2442 |\n",
            "| Viennese waltz |  0.4832 | 0.9538 |\n",
            "|     Waltz      |  0.0224 | 0.0455 |\n",
            "+----------------+---------+--------+\n",
            "\n",
            "Running with window_length 2000\n",
            "+----------------+---------+--------+\n",
            "|     Genre      | P-score | ALOTC  |\n",
            "+----------------+---------+--------+\n",
            "|     ChaCha     |  0.0000 | 0.0000 |\n",
            "|      Jive      |  0.2959 | 0.5833 |\n",
            "|   Quickstep    |  0.5485 | 0.9390 |\n",
            "|     Rumba      |  0.0000 | 0.0000 |\n",
            "|     Samba      |  0.0035 | 0.0116 |\n",
            "|     Tango      |  0.1093 | 0.2791 |\n",
            "| Viennese waltz |  0.4918 | 0.9538 |\n",
            "|     Waltz      |  0.0313 | 0.0636 |\n",
            "+----------------+---------+--------+\n",
            "\n",
            "Running with window_length 2400\n",
            "+----------------+---------+--------+\n",
            "|     Genre      | P-score | ALOTC  |\n",
            "+----------------+---------+--------+\n",
            "|     ChaCha     |  0.0000 | 0.0000 |\n",
            "|      Jive      |  0.3087 | 0.6000 |\n",
            "|   Quickstep    |  0.5480 | 0.9146 |\n",
            "|     Rumba      |  0.0000 | 0.0000 |\n",
            "|     Samba      |  0.0035 | 0.0116 |\n",
            "|     Tango      |  0.1248 | 0.3140 |\n",
            "| Viennese waltz |  0.4995 | 0.9385 |\n",
            "|     Waltz      |  0.0388 | 0.0818 |\n",
            "+----------------+---------+--------+\n",
            "\n"
          ]
        }
      ],
      "source": [
        "for window_size in [800, 2000, 2400]:#\n",
        "    print('Running with window_length', window_size)\n",
        "    table = PrettyTable([\"Genre\", \"P-score\", \"ALOTC\"])\n",
        "    ratio_list = []\n",
        "    for genre in genres:\n",
        "        # print('running', genre)\n",
        "        score = []\n",
        "        ratio = []\n",
        "        dir = os.path.join(path, genre)\n",
        "        files = os.listdir(dir)\n",
        "        for file_name in files:\n",
        "            file = os.path.join(dir, file_name)\n",
        "            s, sr = librosa.load(file, sr=None)\n",
        "            hop_size = sr // lw_sr\n",
        "            t, spfx_enhance = spectral_flux(s, sr, hop_size, window_size=1024, g=g, mean_size=mean_size, lag=1)\n",
        "            f, tpg = tempogram_fourier(spfx_enhance, lw_sr, window_size=window_size, hop_size=hop_size)#hop_size=50\n",
        "            # f, tpg = harmonic_sum_tempogram(f, tpg, 4, 1.)\n",
        "            T1, T2, S1 = tempo_estimation(f, tpg)\n",
        "\n",
        "            with open(os.path.join('./Ballroom/BallroomAnnotations/ballroomGroundTruth', file_name.replace('.wav', '.bpm').split('/')[-1])) as label_file:\n",
        "                truth = int(label_file.readline())\n",
        "            score.append([])\n",
        "            score[-1].append(p_score(truth, T1, T2, S1))\n",
        "            score[-1].append(ALOTC_SCORE(truth, T1, T2))\n",
        "        score = np.array(score)\n",
        "        out = score.mean(axis=0).tolist()\n",
        "\n",
        "        table_row = [genre]\n",
        "        for p in out:\n",
        "            table_row.append(\"{:.4f}\".format(p))\n",
        "        table.add_row(table_row)\n",
        "\n",
        "    print(table)\n",
        "    print()"
      ]
    },
    {
      "cell_type": "markdown",
      "metadata": {
        "id": "mZY_EPcSYrJB"
      },
      "source": [
        "Autocorrelation tempogram"
      ]
    },
    {
      "cell_type": "code",
      "execution_count": 28,
      "metadata": {
        "id": "dRMSAxivrzeM"
      },
      "outputs": [],
      "source": [
        "def tempogram_auto(nv_curve, sr, window_size=512, hop_size=None):\n",
        "    lag, _, tempogram = st_acf(nv_curve, sr, window_size, hop_size=hop_size)\n",
        "    tempogram = normalize(tempogram)\n",
        "    freq_scale = 60 / lag[1:]\n",
        "    freq_scale = np.concatenate(([0], freq_scale))\n",
        "    return freq_scale, tempogram"
      ]
    },
    {
      "cell_type": "code",
      "execution_count": 15,
      "metadata": {
        "colab": {
          "base_uri": "https://localhost:8080/"
        },
        "id": "87tFVZMEYwbE",
        "outputId": "3747a90b-3d83-4c6a-8d95-2f393cc587db"
      },
      "outputs": [
        {
          "output_type": "stream",
          "name": "stdout",
          "text": [
            "Running with window_length 800\n",
            "+----------------+---------+--------+\n",
            "|     Genre      | P-score | ALOTC  |\n",
            "+----------------+---------+--------+\n",
            "|     ChaCha     |  0.5056 | 0.9820 |\n",
            "|      Jive      |  0.4533 | 0.9333 |\n",
            "|   Quickstep    |  0.4480 | 0.8780 |\n",
            "|     Rumba      |  0.4429 | 0.8980 |\n",
            "|     Samba      |  0.3658 | 0.7209 |\n",
            "|     Tango      |  0.5180 | 0.9651 |\n",
            "| Viennese waltz |  0.5182 | 0.9231 |\n",
            "|     Waltz      |  0.2398 | 0.4455 |\n",
            "+----------------+---------+--------+\n",
            "\n",
            "Running with window_length 2000\n",
            "+----------------+---------+--------+\n",
            "|     Genre      | P-score | ALOTC  |\n",
            "+----------------+---------+--------+\n",
            "|     ChaCha     |  0.5136 | 0.9910 |\n",
            "|      Jive      |  0.4523 | 0.9333 |\n",
            "|   Quickstep    |  0.4181 | 0.8537 |\n",
            "|     Rumba      |  0.4432 | 0.8980 |\n",
            "|     Samba      |  0.3701 | 0.7326 |\n",
            "|     Tango      |  0.5170 | 0.9651 |\n",
            "| Viennese waltz |  0.4795 | 0.8923 |\n",
            "|     Waltz      |  0.3402 | 0.6545 |\n",
            "+----------------+---------+--------+\n",
            "\n",
            "Running with window_length 2400\n",
            "+----------------+---------+--------+\n",
            "|     Genre      | P-score | ALOTC  |\n",
            "+----------------+---------+--------+\n",
            "|     ChaCha     |  0.5097 | 0.9820 |\n",
            "|      Jive      |  0.4457 | 0.9167 |\n",
            "|   Quickstep    |  0.3941 | 0.8049 |\n",
            "|     Rumba      |  0.4481 | 0.9082 |\n",
            "|     Samba      |  0.3764 | 0.7442 |\n",
            "|     Tango      |  0.5171 | 0.9651 |\n",
            "| Viennese waltz |  0.4793 | 0.8923 |\n",
            "|     Waltz      |  0.3510 | 0.6636 |\n",
            "+----------------+---------+--------+\n",
            "\n"
          ]
        }
      ],
      "source": [
        "for window_size in [800, 2000, 2400]:#\n",
        "    print('Running with window_length', window_size)\n",
        "    table = PrettyTable([\"Genre\", \"P-score\", \"ALOTC\"])\n",
        "    ratio_list = []\n",
        "    for genre in genres:\n",
        "        score = []\n",
        "        ratio = []\n",
        "        dir = os.path.join(path, genre)\n",
        "        files = os.listdir(dir)\n",
        "        for file_name in files:\n",
        "            data, sr = librosa.load(os.path.join(dir, file_name), sr=None)\n",
        "            hop_size = sr // lw_sr\n",
        "            t, spfx_enhance = spectral_flux(data, sr, hop_size, window_size, g, mean_size, lag=1)\n",
        "            f, tpg = tempogram_auto(spfx_enhance, lw_sr)\n",
        "            T1, T2, S1 = tempo_estimation(f, tpg)\n",
        "\n",
        "            with open(os.path.join('./Ballroom/BallroomAnnotations/ballroomGroundTruth', file_name.replace('.wav', '.bpm').split('/')[-1])) as label_file:\n",
        "                truth = int(label_file.readline())\n",
        "            score.append([])\n",
        "            score[-1].append(p_score(truth, T1, T2, S1))\n",
        "            score[-1].append(ALOTC_SCORE(truth, T1, T2))\n",
        "        score = np.array(score)\n",
        "        out = score.mean(axis=0).tolist()\n",
        "\n",
        "        table_row = [genre]\n",
        "        for p in out:\n",
        "            table_row.append(\"{:.4f}\".format(p))\n",
        "        table.add_row(table_row)\n",
        "    print(table)\n",
        "    print()"
      ]
    },
    {
      "cell_type": "markdown",
      "metadata": {
        "id": "pONy0ExWyDwf"
      },
      "source": [
        "# Question 3: "
      ]
    },
    {
      "cell_type": "code",
      "execution_count": 33,
      "metadata": {
        "id": "QuIxiD2arizR"
      },
      "outputs": [],
      "source": [
        "def genTempogram(nv_curve, sr, wsize_f, wsize_t, hop_f, hop_t=None, harms=4, alpha=1.):\n",
        "    tpg_fourier = np.abs(librosa.stft(nv_curve, n_fft=wsize_f, hop_length=hop_f))\n",
        "    freq_fourier = np.arange(wsize_f // 2 + 1) * sr / wsize_f * 60\n",
        "    freq_fourier, tpg_fourier = harmonic_sum_tempogram(freq_fourier, tpg_fourier, harms=harms, alpha=alpha)\n",
        "    \n",
        "\n",
        "    lag, _, tpg_auto = st_acf(nv_curve, sr, wsize_t, hop_size=hop_t)\n",
        "    freq_auto = 60 / lag[1:]\n",
        "    freq_auto = np.concatenate(([0], freq_auto))\n",
        "\n",
        "    tpg_auto = normalize(tpg_auto)\n",
        "    tpg_fourier = normalize(tpg_fourier)\n",
        "    tpg_fourier = tpg_fourier.mean(axis=1)\n",
        "    tpg_auto = tpg_auto.mean(axis=1)\n",
        "\n",
        "    # Pool the frequency scales\n",
        "    pool_scale = (freq_fourier[1:] + freq_fourier[:-1]) / 2\n",
        "\n",
        "    # Transform the autocorrelation tempogram to match the pooled scale\n",
        "    transformed_tpg_auto = np.zeros(len(pool_scale) - 1)\n",
        "    for i in range(len(pool_scale) - 1):\n",
        "        f1, f2 = pool_scale[i], pool_scale[i + 1]\n",
        "        p_idx = (freq_auto > f1) & (freq_auto < f2)\n",
        "        p_value = freq_auto[p_idx]\n",
        "        if len(p_value) > 0:\n",
        "            transformed_tpg_auto[i] = np.max(tpg_auto[p_idx])\n",
        "\n",
        "    #combine fourier and autocorrelation\n",
        "    cfp = tpg_fourier[1:-1] * transformed_tpg_auto\n",
        "    return freq_auto[1:-1], cfp[:, None]"
      ]
    },
    {
      "cell_type": "code",
      "source": [
        "window_size = 1024\n",
        "lw_sr = 100\n",
        "table = PrettyTable([\"Genre\", \"P-score\", \"ALOTC\"])\n",
        "ratio_list = []\n",
        "for genre in genres:\n",
        "    score = []\n",
        "    ratio = []\n",
        "    dir = os.path.join(path, genre)\n",
        "    files = os.listdir(dir)\n",
        "    for file_name in files:\n",
        "        data, sr = librosa.load(os.path.join(dir, file_name), sr=None)\n",
        "        hop_size = sr // lw_sr\n",
        "        t, spfx_enhance = spectral_flux(data, sr, hop_size, window_size, g, mean_size, lag=1)\n",
        "        f, tpg = genTempogram(spfx_enhance, lw_sr, wsize_f=2000, wsize_t=512, hop_f=50)\n",
        "        T1, T2, S1 = tempo_estimation(f, tpg)\n",
        "        with open(os.path.join('./Ballroom/BallroomAnnotations/ballroomGroundTruth', \n",
        "                               file_name.replace('.wav', '.bpm').split('/')[-1])) as label_file:\n",
        "            truth = int(label_file.readline())\n",
        "        score.append([])\n",
        "        score[-1].append(p_score(truth, T1, T2, S1))\n",
        "        score[-1].append(ALOTC_SCORE(truth, T1, T2))\n",
        "    score = np.array(score)\n",
        "    out = score.mean(axis=0).tolist()\n",
        "\n",
        "    table_row = [genre]\n",
        "    for p in out:\n",
        "        table_row.append(\"{:.4f}\".format(p))\n",
        "    table.add_row(table_row)\n",
        "print(table)"
      ],
      "metadata": {
        "colab": {
          "base_uri": "https://localhost:8080/"
        },
        "id": "VduttptTDivb",
        "outputId": "9cd5740e-ad22-4670-b8dd-16ba7b918ce9"
      },
      "execution_count": 34,
      "outputs": [
        {
          "output_type": "stream",
          "name": "stdout",
          "text": [
            "+----------------+---------+--------+\n",
            "|     Genre      | P-score | ALOTC  |\n",
            "+----------------+---------+--------+\n",
            "|     ChaCha     |  0.0112 | 0.0180 |\n",
            "|      Jive      |  0.0387 | 0.0667 |\n",
            "|   Quickstep    |  0.0000 | 0.0000 |\n",
            "|     Rumba      |  0.0783 | 0.1633 |\n",
            "|     Samba      |  0.0223 | 0.0349 |\n",
            "|     Tango      |  0.1228 | 0.2093 |\n",
            "| Viennese waltz |  0.0053 | 0.0154 |\n",
            "|     Waltz      |  0.0046 | 0.0091 |\n",
            "+----------------+---------+--------+\n"
          ]
        }
      ]
    },
    {
      "cell_type": "markdown",
      "metadata": {
        "id": "ZWCb1xTXpTtS"
      },
      "source": [
        "# Question 4: Beat tracking"
      ]
    },
    {
      "cell_type": "code",
      "execution_count": 5,
      "metadata": {
        "id": "y9RMG5EmA7-V"
      },
      "outputs": [],
      "source": [
        "def evaluate(label_seq, pred_seq):\n",
        "    tolerance = 0.07\n",
        "\n",
        "    # Initialize arrays to store positive predictions (p_pool) and positive labels (r_pool)\n",
        "    p_pool = np.zeros(pred_seq.shape)\n",
        "    r_pool = np.zeros(label_seq.shape)\n",
        "\n",
        "    for i in range(len(label_seq)):\n",
        "        # Find predicted beats within the tolerance window around the current label\n",
        "        p_idx = np.where((pred_seq > label_seq[i] - tolerance) & (pred_seq < label_seq[i] + tolerance))[0]\n",
        "        p_beats = pred_seq[p_idx]\n",
        "\n",
        "        # Determine the best predicted beat if there are multiple within the tolerance window\n",
        "        if len(p_beats) > 1:\n",
        "            dist = np.abs(p_beats - label_seq[i])\n",
        "            best_idx = p_idx[np.argmax(dist)]\n",
        "        # Use the single predicted beat if there's only one within the tolerance window\n",
        "        elif len(p_beats) == 1:\n",
        "            best_idx = p_idx[0]\n",
        "        else: continue\n",
        "\n",
        "        # Check if the best predicted beat has already been assigned to a label\n",
        "        if p_pool[best_idx] > 0: continue\n",
        "        else:\n",
        "            # Assign the best predicted beat as a true positive and mark the label as a positive\n",
        "            p_pool[best_idx] = 1\n",
        "            r_pool[i] = 1\n",
        "            \n",
        "    # Count the true positives, false positives, and false negatives\n",
        "    tp = np.count_nonzero(p_pool)\n",
        "    fp = len(p_pool) - tp\n",
        "    fn = len(r_pool) - tp\n",
        "    return tp, fp, fn"
      ]
    },
    {
      "cell_type": "code",
      "source": [
        "path = './Ballroom/BallroomData/'\n",
        "genres = ['ChaCha', 'Jive', 'Quickstep', 'Rumba', 'Samba', 'Tango', 'Viennese waltz', 'Waltz']"
      ],
      "metadata": {
        "id": "1k59bf6cMAMq"
      },
      "execution_count": 6,
      "outputs": []
    },
    {
      "cell_type": "code",
      "execution_count": 7,
      "metadata": {
        "colab": {
          "base_uri": "https://localhost:8080/"
        },
        "id": "gqnr3o-sp-o6",
        "outputId": "82dd0a21-f134-4362-c8b2-b86a29a651ca"
      },
      "outputs": [
        {
          "output_type": "stream",
          "name": "stdout",
          "text": [
            "+----------------+-----------+--------+----------+\n",
            "|     Genre      | Precision | Recall | F-scores |\n",
            "+----------------+-----------+--------+----------+\n",
            "|     ChaCha     |   0.8991  | 0.8886 |  0.8938  |\n",
            "|      Jive      |   0.8302  | 0.5393 |  0.6538  |\n",
            "|   Quickstep    |   0.8421  | 0.4319 |  0.5710  |\n",
            "|     Rumba      |   0.7554  | 0.7979 |  0.7761  |\n",
            "|     Samba      |   0.5492  | 0.6121 |  0.5790  |\n",
            "|     Tango      |   0.8404  | 0.7836 |  0.8110  |\n",
            "| Viennese waltz |   0.8857  | 0.6747 |  0.7659  |\n",
            "|     Waltz      |   0.5308  | 0.6754 |  0.5944  |\n",
            "+----------------+-----------+--------+----------+\n"
          ]
        }
      ],
      "source": [
        "table = PrettyTable([\"Genre\", \"Precision\", \"Recall\", \"F-scores\"])\n",
        "\n",
        "for genre in genres:\n",
        "    score = []\n",
        "    dir = os.path.join(path, genre)\n",
        "    files = os.listdir(dir)\n",
        "    for file_name in files:\n",
        "        data, sr = librosa.load(os.path.join(dir, file_name), sr=None)\n",
        "        tempo, beats = librosa.beat.beat_track(y=data,sr=sr)\n",
        "        timestamps = np.round(librosa.frames_to_time(beats, sr=sr), decimals=3)\n",
        "        label = np.loadtxt(os.path.join('./Ballroom/BallroomAnnotations-master', file_name.replace('.wav', '.beats').split('/')[-1]))\n",
        "        score.append(evaluate(label[:, 0], timestamps))\n",
        "\n",
        "    score = np.array(score).sum(axis=0)\n",
        "    p = score[0] / (score[0] + score[1])\n",
        "    r = score[0] / (score[0] + score[2])\n",
        "    f = 2 * p * r / (p + r)\n",
        "    \n",
        "    table_row = [genre]\n",
        "    for sc in [p,r,f]:\n",
        "        table_row.append(\"{:.4f}\".format(sc))\n",
        "    table.add_row(table_row)\n",
        "\n",
        "print(table)"
      ]
    },
    {
      "cell_type": "code",
      "execution_count": null,
      "metadata": {
        "id": "IMVvnU7PsgeG"
      },
      "outputs": [],
      "source": []
    }
  ],
  "metadata": {
    "colab": {
      "provenance": []
    },
    "kernelspec": {
      "display_name": "Python 3",
      "name": "python3"
    },
    "language_info": {
      "name": "python"
    }
  },
  "nbformat": 4,
  "nbformat_minor": 0
}